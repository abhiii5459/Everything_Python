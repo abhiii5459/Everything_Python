{
 "cells": [
  {
   "cell_type": "code",
   "execution_count": 20,
   "metadata": {},
   "outputs": [],
   "source": [
    "import pandas as pd"
   ]
  },
  {
   "cell_type": "code",
   "execution_count": 21,
   "metadata": {},
   "outputs": [],
   "source": [
    "import numpy as np"
   ]
  },
  {
   "cell_type": "code",
   "execution_count": 117,
   "metadata": {
    "scrolled": true
   },
   "outputs": [
    {
     "name": "stdout",
     "output_type": "stream",
     "text": [
      "Number of movies =  51\n",
      "http://www.omdbapi.com/?t='Back to the Future'&apikey=e960599a\n",
      "http://www.omdbapi.com/?t='Back to the Future Part 2'&apikey=e960599a\n",
      "http://www.omdbapi.com/?t='Back to the Future Part 3'&apikey=e960599a\n",
      "http://www.omdbapi.com/?t='The Matrix'&apikey=e960599a\n",
      "http://www.omdbapi.com/?t='The Matrix Reloaded'&apikey=e960599a\n",
      "http://www.omdbapi.com/?t='The Matrix Revolutions'&apikey=e960599a\n",
      "http://www.omdbapi.com/?t='Death Note Light Up the New World'&apikey=e960599a\n",
      "http://www.omdbapi.com/?t='Despicable Me'&apikey=e960599a\n",
      "http://www.omdbapi.com/?t='Ice Age Collision Course'&apikey=e960599a\n",
      "http://www.omdbapi.com/?t='Zootopia'&apikey=e960599a\n",
      "http://www.omdbapi.com/?t='Kingsglaive Final Fantasy XV'&apikey=e960599a\n",
      "http://www.omdbapi.com/?t='Kung Fu Panda 3'&apikey=e960599a\n",
      "http://www.omdbapi.com/?t='Song of the Sea'&apikey=e960599a\n",
      "http://www.omdbapi.com/?t='Captain America Civil War'&apikey=e960599a\n",
      "http://www.omdbapi.com/?t='Deadpool'&apikey=e960599a\n",
      "http://www.omdbapi.com/?t='Don't Breathe'&apikey=e960599a\n",
      "http://www.omdbapi.com/?t='Guardians Of The Galaxy Vol  2'&apikey=e960599a\n",
      "http://www.omdbapi.com/?t='Hitler The Rise of Evil Part 1 HDTV XviD-SFM avi'&apikey=e960599a\n",
      "http://www.omdbapi.com/?t='Hitler The Rise of Evil Part 2 HDTV XviD-SFM avi'&apikey=e960599a\n",
      "http://www.omdbapi.com/?t='Jason Bourne'&apikey=e960599a\n",
      "http://www.omdbapi.com/?t='John Wick'&apikey=e960599a\n",
      "http://www.omdbapi.com/?t='Jurassic World'&apikey=e960599a\n",
      "http://www.omdbapi.com/?t='Mad Max Fury Road'&apikey=e960599a\n",
      "http://www.omdbapi.com/?t='Moneyball'&apikey=e960599a\n",
      "http://www.omdbapi.com/?t='Neighbors 2'&apikey=e960599a\n",
      "http://www.omdbapi.com/?t='Skiptrace'&apikey=e960599a\n",
      "http://www.omdbapi.com/?t='The Girl With The Dragon Tattoo'&apikey=e960599a\n",
      "http://www.omdbapi.com/?t='The Imitation Game'&apikey=e960599a\n",
      "http://www.omdbapi.com/?t='The Lobster'&apikey=e960599a\n",
      "http://www.omdbapi.com/?t='The Siege of Jadotville'&apikey=e960599a\n",
      "http://www.omdbapi.com/?t='the social network'&apikey=e960599a\n",
      "http://www.omdbapi.com/?t='The Drownsman'&apikey=e960599a\n",
      "http://www.omdbapi.com/?t='The Forest'&apikey=e960599a\n",
      "http://www.omdbapi.com/?t='The Man from U N C L E'&apikey=e960599a\n",
      "http://www.omdbapi.com/?t='The Town That Dreaded Sundown'&apikey=e960599a\n",
      "http://www.omdbapi.com/?t='Scarface'&apikey=e960599a\n",
      "http://www.omdbapi.com/?t=''&apikey=e960599a\n",
      "http://www.omdbapi.com/?t='Fight Club'&apikey=e960599a\n",
      "http://www.omdbapi.com/?t='How to Be Single'&apikey=e960599a\n",
      "http://www.omdbapi.com/?t='It Follows'&apikey=e960599a\n",
      "http://www.omdbapi.com/?t='Rogue One A Star Wars Story'&apikey=e960599a\n",
      "http://www.omdbapi.com/?t='The Baby-Sitters Club'&apikey=e960599a\n",
      "http://www.omdbapi.com/?t='Zoolander 2'&apikey=e960599a\n",
      "http://www.omdbapi.com/?t='Dulla Bhatti Wala'&apikey=e960599a\n",
      "http://www.omdbapi.com/?t='A Flying Jatt'&apikey=e960599a\n",
      "http://www.omdbapi.com/?t=''&apikey=e960599a\n",
      "http://www.omdbapi.com/?t='Fitoor'&apikey=e960599a\n",
      "http://www.omdbapi.com/?t='MS Dhoni avi'&apikey=e960599a\n",
      "http://www.omdbapi.com/?t='Wazir'&apikey=e960599a\n",
      "http://www.omdbapi.com/?t='Ustad Hotel Malayalam BRRip'&apikey=e960599a\n",
      "http://www.omdbapi.com/?t='Thanga Magan'&apikey=e960599a\n",
      "dict_values([['Thanga Magan', '6.0', 'N/A'], ['Mad Max Fury Road', '8.1', '90'], ['Deadpool', '8.0', '65'], ['The Forest', '4.8', '34'], ['The Drownsman', '4.1', 'N/A'], ['How to Be Single', '6.1', '51'], ['Despicable Me', '7.7', '72'], ['The Matrix Revolutions', 'N/A', 'N/A'], ['Jurassic World', '7.4', 'N/A'], ['Fight Club', 'N/A', 'N/A'], ['The Matrix Reloaded', '7.9', 'N/A'], ['Wazir', '7.1', 'N/A'], ['Kung Fu Panda 3', '7.1', '66'], ['Captain America Civil War', '7.8', '75'], ['The Baby-Sitters Club', '5.8', 'N/A'], ['The Matrix', '8.0', 'N/A'], ['The Girl With The Dragon Tattoo', '7.8', '71'], ['Ice Age Collision Course', '5.7', '34'], ['The Siege of Jadotville', '7.3', 'N/A'], ['A Flying Jatt', '3.5', 'N/A'], ['Zoolander 2', '4.7', '34'], ['Zootopia', '8.0', '78'], [\"Don't Breathe\", '7.1', '71'], ['Back to the Future', '6.7', 'N/A'], ['Dulla Bhatti Wala', '5.2', 'N/A'], ['Death Note Light Up the New World', '5.8', 'N/A'], ['The Town That Dreaded Sundown', '5.6', '47'], ['Back to the Future Part 3', 'N/A', 'N/A'], ['Skiptrace', '5.7', '50'], ['It Follows', '6.9', '83'], ['Fitoor', '5.4', 'N/A'], ['Neighbors 2', '5.7', '58'], ['the social network', '7.7', '95'], ['The Imitation Game', '8.0', '73'], ['Scarface', '6.7', 'N/A'], ['The Lobster', '7.1', '82'], ['John Wick', 'N/A', 'N/A'], ['Moneyball', 'N/A', 'N/A'], ['Song of the Sea', '8.1', '85'], ['Rogue One A Star Wars Story', '7.8', '65'], ['Guardians Of The Galaxy Vol  2', '7.8', '67'], ['Jason Bourne', '6.6', '58'], ['Kingsglaive Final Fantasy XV', '6.8', '35'], ['Back to the Future Part 2', 'N/A', 'N/A']])\n",
      "   IMDB_Rating MetaCritic                         Movie_Name\n",
      "0          6.0        N/A                       Thanga Magan\n",
      "1          8.1         90                  Mad Max Fury Road\n",
      "2          8.0         65                           Deadpool\n",
      "3          4.8         34                         The Forest\n",
      "4          4.1        N/A                      The Drownsman\n",
      "5          6.1         51                   How to Be Single\n",
      "6          7.7         72                      Despicable Me\n",
      "7          N/A        N/A             The Matrix Revolutions\n",
      "8          7.4        N/A                     Jurassic World\n",
      "9          N/A        N/A                         Fight Club\n",
      "10         7.9        N/A                The Matrix Reloaded\n",
      "11         7.1        N/A                              Wazir\n",
      "12         7.1         66                    Kung Fu Panda 3\n",
      "13         7.8         75          Captain America Civil War\n",
      "14         5.8        N/A              The Baby-Sitters Club\n",
      "15         8.0        N/A                         The Matrix\n",
      "16         7.8         71    The Girl With The Dragon Tattoo\n",
      "17         5.7         34           Ice Age Collision Course\n",
      "18         7.3        N/A            The Siege of Jadotville\n",
      "19         3.5        N/A                      A Flying Jatt\n",
      "20         4.7         34                        Zoolander 2\n",
      "21         8.0         78                           Zootopia\n",
      "22         7.1         71                      Don't Breathe\n",
      "23         6.7        N/A                 Back to the Future\n",
      "24         5.2        N/A                  Dulla Bhatti Wala\n",
      "25         5.8        N/A  Death Note Light Up the New World\n",
      "26         5.6         47      The Town That Dreaded Sundown\n",
      "27         N/A        N/A          Back to the Future Part 3\n",
      "28         5.7         50                          Skiptrace\n",
      "29         6.9         83                         It Follows\n",
      "30         5.4        N/A                             Fitoor\n",
      "31         5.7         58                        Neighbors 2\n",
      "32         7.7         95                 the social network\n",
      "33         8.0         73                 The Imitation Game\n",
      "34         6.7        N/A                           Scarface\n",
      "35         7.1         82                        The Lobster\n",
      "36         N/A        N/A                          John Wick\n",
      "37         N/A        N/A                          Moneyball\n",
      "38         8.1         85                    Song of the Sea\n",
      "39         7.8         65        Rogue One A Star Wars Story\n",
      "40         7.8         67     Guardians Of The Galaxy Vol  2\n",
      "41         6.6         58                       Jason Bourne\n",
      "42         6.8         35       Kingsglaive Final Fantasy XV\n",
      "43         N/A        N/A          Back to the Future Part 2\n"
     ]
    }
   ],
   "source": [
    "import os\n",
    "import re\n",
    "import pandas as pd\n",
    "import requests\n",
    "df = pd.DataFrame()\n",
    "global counter\n",
    "counter =0\n",
    "\n",
    "def name_clean(movie):\n",
    "    new_movie = []\n",
    "    for i in re.split('[ \\.]',movie):\n",
    "        match = re.search(r'\\d\\d', i)\n",
    "        if match:\n",
    "            break\n",
    "        else:\n",
    "            new_movie.append(i)\n",
    "    return(' '.join(new_movie))\n",
    "\n",
    "def get_movies():\n",
    "    directory_list = list()\n",
    "    for root, dirs, files in os.walk(\"/media/abhi/My Passport - C/Movies/\", topdown=False):\n",
    "        for name in files:\n",
    "            if (name.endswith(\"avi\") or name.endswith(\"mp4\") or name.endswith(\"mkv\")) and (os.path.getsize(os.path.join(root, name))/(10**6))>100.0:\n",
    "                directory_list.append((name_clean(name)).replace('.',' '))\n",
    "    print(\"Number of movies = \",len(directory_list))\n",
    "    return directory_list\n",
    "    \n",
    "movie_dict={}\n",
    "def get_movie_details(names):\n",
    "#    print(\"API Call Number: \",counter)\n",
    "    req = \"http://www.omdbapi.com/?t='\"+names+\"'&apikey=e960599a\"\n",
    "    r = requests.get(req)\n",
    "    print(req)\n",
    "    if r.json()['Response']==\"True\":\n",
    "        movie_dict[names]=[names,r.json()['imdbRating'],r.json()['Metascore']]\n",
    "        \n",
    "movie_list = get_movies()\n",
    "for i in movie_list:\n",
    "    get_movie_details(i)\n",
    "#print(movie_dict)\n",
    "print(movie_dict.values())\n",
    "for i in movie_dict.values():\n",
    "    df = df.append(pd.Series(i, index=['Movie_Name','IMDB_Rating','MetaCritic']),ignore_index=True)\n",
    "print(df)\n",
    "df.to_csv('./movies.csv')"
   ]
  },
  {
   "cell_type": "code",
   "execution_count": 24,
   "metadata": {},
   "outputs": [],
   "source": [
    "movie = \"Back to the Future 1985 1080p Brrip x264 Deceit YIFY mp4\""
   ]
  },
  {
   "cell_type": "code",
   "execution_count": 25,
   "metadata": {},
   "outputs": [
    {
     "data": {
      "text/plain": [
       "['Back',\n",
       " 'to',\n",
       " 'the',\n",
       " 'Future',\n",
       " '1985',\n",
       " '1080p',\n",
       " 'Brrip',\n",
       " 'x264',\n",
       " 'Deceit',\n",
       " 'YIFY',\n",
       " 'mp4']"
      ]
     },
     "execution_count": 25,
     "metadata": {},
     "output_type": "execute_result"
    }
   ],
   "source": [
    "movie.split(' ')"
   ]
  },
  {
   "cell_type": "code",
   "execution_count": 29,
   "metadata": {},
   "outputs": [
    {
     "name": "stdout",
     "output_type": "stream",
     "text": [
      "Back to the Future\n"
     ]
    }
   ],
   "source": [
    "import re\n",
    "new_movie = []\n",
    "for i in movie.split():\n",
    "    match = re.search(r'\\d\\d', i)\n",
    "    if match:\n",
    "        break\n",
    "    else:\n",
    "        new_movie.append(i)\n",
    "print(' '.join(new_movie))"
   ]
  },
  {
   "cell_type": "code",
   "execution_count": 32,
   "metadata": {
    "scrolled": true
   },
   "outputs": [
    {
     "name": "stdout",
     "output_type": "stream",
     "text": [
      "Number of movies =  51\n",
      "\n",
      "\n",
      "\n",
      "\n",
      "\n",
      "\n",
      "\n",
      "Despicable Me\n",
      "\n",
      "\n",
      "\n",
      "\n",
      "\n",
      "\n",
      "Deadpool\n",
      "\n",
      "\n",
      "Hitler The Rise of Evil Part 1 HDTV XviD-SFM avi\n",
      "Hitler The Rise of Evil Part 2 HDTV XviD-SFM avi\n",
      "\n",
      "\n",
      "\n",
      "\n",
      "\n",
      "\n",
      "\n",
      "\n",
      "The Imitation Game\n",
      "The Lobster\n",
      "The Siege of Jadotville\n",
      "\n",
      "\n",
      "\n",
      "\n",
      "\n",
      "Scarface\n",
      "\n",
      "Fight Club\n",
      "\n",
      "It Follows\n",
      "\n",
      "The Baby-Sitters Club\n",
      "\n",
      "Dulla Bhatti Wala\n",
      "A Flying Jatt\n",
      "\n",
      "\n",
      "MS Dhoni avi\n",
      "\n",
      "Ustad Hotel Malayalam BRRip\n",
      "Thanga Magan\n"
     ]
    }
   ],
   "source": [
    "import os\n",
    "import re\n",
    "\n",
    "def name_clean(movie):\n",
    "    new_movie = []\n",
    "    for i in movie.split():\n",
    "        match = re.search(r'\\d\\d', i)\n",
    "        if match:\n",
    "          #  new_movie.append(i)\n",
    "            break\n",
    "        else:\n",
    "            new_movie.append(i)\n",
    "    return(' '.join(new_movie))\n",
    "\n",
    "directory_list = list()\n",
    "for root, dirs, files in os.walk(\"/media/abhi/My Passport - C/Movies/\", topdown=False):\n",
    "    for name in files:\n",
    "        if (name.endswith(\"avi\") or name.endswith(\"mp4\") or name.endswith(\"mkv\")) and (os.path.getsize(os.path.join(root, name))/(10**6))>100.0:\n",
    "            directory_list.append(name_clean(name))\n",
    "print(\"Number of movies = \",len(directory_list))\n",
    "for i in directory_list:\n",
    "    print(i.replace('.',' '))"
   ]
  },
  {
   "cell_type": "code",
   "execution_count": 43,
   "metadata": {},
   "outputs": [],
   "source": [
    "import requests"
   ]
  },
  {
   "cell_type": "code",
   "execution_count": 106,
   "metadata": {},
   "outputs": [],
   "source": [
    "r = requests.get(\"http://www.omdbapi.com/?t='The Imitation Game'&apikey=e960599a\")"
   ]
  },
  {
   "cell_type": "code",
   "execution_count": 107,
   "metadata": {},
   "outputs": [
    {
     "data": {
      "text/plain": [
       "'8.0'"
      ]
     },
     "execution_count": 107,
     "metadata": {},
     "output_type": "execute_result"
    }
   ],
   "source": [
    "r.json()['imdbRating']"
   ]
  },
  {
   "cell_type": "code",
   "execution_count": 65,
   "metadata": {},
   "outputs": [
    {
     "data": {
      "text/plain": [
       "200"
      ]
     },
     "execution_count": 65,
     "metadata": {},
     "output_type": "execute_result"
    }
   ],
   "source": [
    "r.status_code"
   ]
  },
  {
   "cell_type": "code",
   "execution_count": 67,
   "metadata": {},
   "outputs": [
    {
     "data": {
      "text/plain": [
       "'OK'"
      ]
     },
     "execution_count": 67,
     "metadata": {},
     "output_type": "execute_result"
    }
   ],
   "source": [
    "r."
   ]
  },
  {
   "cell_type": "code",
   "execution_count": 71,
   "metadata": {},
   "outputs": [],
   "source": [
    "a=1"
   ]
  },
  {
   "cell_type": "code",
   "execution_count": 72,
   "metadata": {},
   "outputs": [],
   "source": [
    "b=2"
   ]
  },
  {
   "cell_type": "code",
   "execution_count": 73,
   "metadata": {},
   "outputs": [
    {
     "data": {
      "text/plain": [
       "[1, 2]"
      ]
     },
     "execution_count": 73,
     "metadata": {},
     "output_type": "execute_result"
    }
   ],
   "source": [
    "[a,b]"
   ]
  },
  {
   "cell_type": "code",
   "execution_count": null,
   "metadata": {},
   "outputs": [],
   "source": []
  }
 ],
 "metadata": {
  "kernelspec": {
   "display_name": "Python 3",
   "language": "python",
   "name": "python3"
  },
  "language_info": {
   "codemirror_mode": {
    "name": "ipython",
    "version": 3
   },
   "file_extension": ".py",
   "mimetype": "text/x-python",
   "name": "python",
   "nbconvert_exporter": "python",
   "pygments_lexer": "ipython3",
   "version": "3.5.2"
  }
 },
 "nbformat": 4,
 "nbformat_minor": 2
}
