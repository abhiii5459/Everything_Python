{
 "cells": [
  {
   "cell_type": "code",
   "execution_count": 1,
   "metadata": {},
   "outputs": [],
   "source": [
    "import pandas as pd"
   ]
  },
  {
   "cell_type": "code",
   "execution_count": 3,
   "metadata": {},
   "outputs": [],
   "source": [
    "books = pd.read_csv(\"./data/books_2018.csv\")"
   ]
  },
  {
   "cell_type": "code",
   "execution_count": 5,
   "metadata": {},
   "outputs": [
    {
     "data": {
      "text/plain": [
       "436"
      ]
     },
     "execution_count": 5,
     "metadata": {},
     "output_type": "execute_result"
    }
   ],
   "source": [
    "len(books)"
   ]
  },
  {
   "cell_type": "code",
   "execution_count": 10,
   "metadata": {},
   "outputs": [],
   "source": [
    "df2 = pd.DataFrame({'Title':books.Title.unique()})\n"
   ]
  },
  {
   "cell_type": "code",
   "execution_count": 11,
   "metadata": {},
   "outputs": [
    {
     "data": {
      "text/plain": [
       "399"
      ]
     },
     "execution_count": 11,
     "metadata": {},
     "output_type": "execute_result"
    }
   ],
   "source": [
    "len(df2)"
   ]
  },
  {
   "cell_type": "code",
   "execution_count": 15,
   "metadata": {},
   "outputs": [
    {
     "data": {
      "text/plain": [
       "Sapiens                                                     4\n",
       "Shoe Dog                                                    3\n",
       "1984                                                        3\n",
       "The Rosie Project                                           3\n",
       "Ghachar Ghochar                                             3\n",
       "Ready Player One                                            3\n",
       "Leila                                                       3\n",
       "A Thousand Splendid Suns                                    2\n",
       "Three Body Problem                                          2\n",
       "Children of Time                                            2\n",
       "Norwegian Wood                                              2\n",
       "Zero to One                                                 2\n",
       "Neverwhere                                                  2\n",
       "A Suitable Boy                                              2\n",
       "City of Djinns                                              2\n",
       "Deep Work                                                   2\n",
       "Norse Mythology                                             2\n",
       "Sacred Games                                                2\n",
       "The Shadow Rising                                           2\n",
       "Man’s Search for Meaning                                    2\n",
       "Steve Jobs                                                  2\n",
       "The Dresden Files                                           2\n",
       "Dogs of War                                                 2\n",
       "The Great Indian Novel                                      2\n",
       "Ender’s Game                                                2\n",
       "The Game                                                    2\n",
       "2001 A Space Odyssey                                        2\n",
       "The Martian                                                 2\n",
       "Outliers                                                    2\n",
       "The Audacity of Hope                                        1\n",
       "                                                           ..\n",
       "Selfish Gene -                                              1\n",
       "Timeline -                                                  1\n",
       "The Taj Trilogy                                             1\n",
       "Eleanor Oliphant Is Completely Fine                         1\n",
       "Midnight’s Children                                         1\n",
       "Faiz Ahmed Faiz Poems                                       1\n",
       "Colorless Tsukuru Tazaki and His Years of Pilgrimage        1\n",
       "Guards Guards                                               1\n",
       "The Dragon Reborn                                           1\n",
       "The Vegetarian                                              1\n",
       "Zen and the Art of Motorcycle Maintenance                   1\n",
       "The Interpreter of Maladies                                 1\n",
       "Malgudi Days                                                1\n",
       "Skin in the game                                            1\n",
       "The ministry of utmost happiness                            1\n",
       "The Illicit Happiness of Others                             1\n",
       "WoT                                                         1\n",
       "Sabriel                                                     1\n",
       "Blood Sweat and Pixels                                      1\n",
       "The Demon hunt of Chottanikkara                             1\n",
       "Red Rising                                                  1\n",
       "Blind Willow  Sleeping Woman                                1\n",
       "Narcopolis                                                  1\n",
       "Edge of Physics                                             1\n",
       "Thinking Fast                                               1\n",
       "Sandman                                                     1\n",
       "Aristotle and Dante Discover The Secrets of the Universe    1\n",
       "Time Machine                                                1\n",
       "Gene                                                        1\n",
       "Artemis                                                     1\n",
       "Name: Title, Length: 399, dtype: int64"
      ]
     },
     "execution_count": 15,
     "metadata": {},
     "output_type": "execute_result"
    }
   ],
   "source": [
    "books['Title'].value_counts()\n"
   ]
  },
  {
   "cell_type": "code",
   "execution_count": 18,
   "metadata": {},
   "outputs": [
    {
     "data": {
      "text/plain": [
       "Month\n",
       "1     60\n",
       "2      4\n",
       "4     15\n",
       "5     68\n",
       "6     84\n",
       "7     85\n",
       "8     30\n",
       "11    90\n",
       "Name: Sl No, dtype: int64"
      ]
     },
     "execution_count": 18,
     "metadata": {},
     "output_type": "execute_result"
    }
   ],
   "source": [
    "books.groupby(books.Month).count()['Sl No']"
   ]
  },
  {
   "cell_type": "code",
   "execution_count": null,
   "metadata": {},
   "outputs": [],
   "source": []
  }
 ],
 "metadata": {
  "kernelspec": {
   "display_name": "Python 3",
   "language": "python",
   "name": "python3"
  },
  "language_info": {
   "codemirror_mode": {
    "name": "ipython",
    "version": 3
   },
   "file_extension": ".py",
   "mimetype": "text/x-python",
   "name": "python",
   "nbconvert_exporter": "python",
   "pygments_lexer": "ipython3",
   "version": "3.5.2"
  }
 },
 "nbformat": 4,
 "nbformat_minor": 2
}
