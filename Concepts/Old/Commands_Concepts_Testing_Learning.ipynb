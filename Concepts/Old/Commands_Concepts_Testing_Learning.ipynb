{
 "cells": [
  {
   "cell_type": "code",
   "execution_count": 1,
   "metadata": {},
   "outputs": [],
   "source": [
    "import os"
   ]
  },
  {
   "cell_type": "code",
   "execution_count": 4,
   "metadata": {},
   "outputs": [],
   "source": [
    "path1=\"/home/abhi/Desktop/\""
   ]
  },
  {
   "cell_type": "code",
   "execution_count": 5,
   "metadata": {},
   "outputs": [],
   "source": [
    "path2=\"Work\""
   ]
  },
  {
   "cell_type": "code",
   "execution_count": 6,
   "metadata": {},
   "outputs": [
    {
     "data": {
      "text/plain": [
       "'/home/abhi/Desktop/Work'"
      ]
     },
     "execution_count": 6,
     "metadata": {},
     "output_type": "execute_result"
    }
   ],
   "source": [
    "os.path.join(path1,path2)"
   ]
  },
  {
   "cell_type": "code",
   "execution_count": 11,
   "metadata": {},
   "outputs": [],
   "source": [
    "#Using a question mark before a command in an IPython notebook gives you information about the command\n",
    "? os.path.join"
   ]
  },
  {
   "cell_type": "code",
   "execution_count": 9,
   "metadata": {},
   "outputs": [],
   "source": [
    "? os.path.split"
   ]
  },
  {
   "cell_type": "code",
   "execution_count": 10,
   "metadata": {},
   "outputs": [],
   "source": [
    "path, filename = os.path.split(path1)"
   ]
  },
  {
   "cell_type": "code",
   "execution_count": 11,
   "metadata": {},
   "outputs": [
    {
     "data": {
      "text/plain": [
       "'/home/abhi/Desktop'"
      ]
     },
     "execution_count": 11,
     "metadata": {},
     "output_type": "execute_result"
    }
   ],
   "source": [
    "path"
   ]
  },
  {
   "cell_type": "code",
   "execution_count": 12,
   "metadata": {},
   "outputs": [
    {
     "data": {
      "text/plain": [
       "''"
      ]
     },
     "execution_count": 12,
     "metadata": {},
     "output_type": "execute_result"
    }
   ],
   "source": [
    "filename"
   ]
  },
  {
   "cell_type": "code",
   "execution_count": 13,
   "metadata": {},
   "outputs": [
    {
     "name": "stdout",
     "output_type": "stream",
     "text": [
      "Object `FileSystemLoader` not found.\n"
     ]
    }
   ],
   "source": [
    "? FileSystemLoader"
   ]
  },
  {
   "cell_type": "code",
   "execution_count": 57,
   "metadata": {},
   "outputs": [],
   "source": [
    "class Apple(object):\n",
    "    def __init__(self, *args, **kwargs):   \n",
    "        self.up = args[0]\n",
    "        print(\"Hello\")\n",
    "    \n",
    "    def apple_func(self):\n",
    "        print(\"What's up\")\n",
    "        print(\"up is \"+str(self.up))"
   ]
  },
  {
   "cell_type": "code",
   "execution_count": 58,
   "metadata": {},
   "outputs": [
    {
     "name": "stdout",
     "output_type": "stream",
     "text": [
      "Hello\n"
     ]
    }
   ],
   "source": [
    "## Initializing a new object will by default invoke the __init__ method of that class\n",
    "new_ob = Apple(10)"
   ]
  },
  {
   "cell_type": "code",
   "execution_count": 59,
   "metadata": {},
   "outputs": [
    {
     "name": "stdout",
     "output_type": "stream",
     "text": [
      "What's up\n",
      "up is 10\n"
     ]
    }
   ],
   "source": [
    "new_ob.apple_func()"
   ]
  },
  {
   "cell_type": "code",
   "execution_count": 150,
   "metadata": {},
   "outputs": [],
   "source": [
    "#KwArgs - https://stackoverflow.com/questions/3394835/args-and-kwargs\n",
    "def table_things(**kwargs):\n",
    "    for name, value in kwargs.items():\n",
    "        print( '{0} = {1}'.format(name, value))"
   ]
  },
  {
   "cell_type": "code",
   "execution_count": 148,
   "metadata": {},
   "outputs": [
    {
     "name": "stdout",
     "output_type": "stream",
     "text": [
      "cabbage = vegetable\n",
      "apple = fruit\n"
     ]
    }
   ],
   "source": [
    "table_things(apple = 'fruit', cabbage = 'vegetable')"
   ]
  },
  {
   "cell_type": "code",
   "execution_count": 146,
   "metadata": {},
   "outputs": [],
   "source": [
    "#KwArgs\n",
    "def cars(**nargs):\n",
    "    return((nargs.values()))"
   ]
  },
  {
   "cell_type": "code",
   "execution_count": 97,
   "metadata": {},
   "outputs": [],
   "source": [
    "dictor = (cars(d=\"Ben Affleck\",l=\"Jason Momoa\",a=\"McLaren\",b=\"Ferrari\"))"
   ]
  },
  {
   "cell_type": "code",
   "execution_count": 98,
   "metadata": {},
   "outputs": [
    {
     "data": {
      "text/plain": [
       "dict_values(['Ferrari', 'Jason Momoa', 'Ben Affleck', 'mClaren'])"
      ]
     },
     "execution_count": 98,
     "metadata": {},
     "output_type": "execute_result"
    }
   ],
   "source": [
    "dictor"
   ]
  },
  {
   "cell_type": "code",
   "execution_count": 90,
   "metadata": {},
   "outputs": [
    {
     "data": {
      "text/plain": [
       "dict"
      ]
     },
     "execution_count": 90,
     "metadata": {},
     "output_type": "execute_result"
    }
   ],
   "source": [
    "type(dictor)"
   ]
  },
  {
   "cell_type": "code",
   "execution_count": 92,
   "metadata": {},
   "outputs": [
    {
     "data": {
      "text/plain": [
       "dict_keys(['b', 'l', 'd', 'a'])"
      ]
     },
     "execution_count": 92,
     "metadata": {},
     "output_type": "execute_result"
    }
   ],
   "source": [
    "dictor.keys()"
   ]
  },
  {
   "cell_type": "code",
   "execution_count": 1,
   "metadata": {},
   "outputs": [],
   "source": [
    "##Finding files of a certain extension in a particular path\n",
    "\n",
    "import  fnmatch,os\n",
    "def find_files(pattern, path):\n",
    "    result = []\n",
    "    name_of_files= []\n",
    "    for full_path, dirs, files in os.walk(path):\n",
    "        for name in files:\n",
    "            if fnmatch.fnmatch(name, pattern):\n",
    "                result.append(os.path.join(full_path, name))\n",
    "                name_of_files.append(name)\n",
    "    return [result,name_of_files]\n",
    "\n"
   ]
  },
  {
   "cell_type": "code",
   "execution_count": 2,
   "metadata": {},
   "outputs": [
    {
     "data": {
      "text/plain": [
       "['Cal Newport-Deep Work_ Rules for focused success in a distracted world-Grand Central (2016).epub',\n",
       " '(Millennium Trilogy Book 2) Stieg Larsson-Millennium Trilogy 2 The Girl Who Played with Fire-Knopf Doubleday Publishing Group (2009).epub',\n",
       " 'Deep-Work-Rules-for-focused-success-in-a-distracted-world.epub',\n",
       " \"(Millennium Trilogy Book 3) Stieg Larsson-Millennium Trilogy  3 The Girl Who Kicked the Hornet's Nest-Knopf Doubleday Publishing Group (2010).epub\",\n",
       " \"Mitch Albom-Tuesdays with Morrie_ an old man, a young man and life's greatest lesson-Anchor Books (2007).epub\",\n",
       " 'Michael Wolff-Fire and Fury_ Inside the Trump White House-Henry Holt and Co. (2018).epub',\n",
       " 'David Brin-Kiln People  -Tor Science Fiction (2003).epub']"
      ]
     },
     "execution_count": 2,
     "metadata": {},
     "output_type": "execute_result"
    }
   ],
   "source": [
    "find_files('*.epub', '../../../E-Books/')[1]"
   ]
  },
  {
   "cell_type": "code",
   "execution_count": 3,
   "metadata": {},
   "outputs": [
    {
     "name": "stdout",
     "output_type": "stream",
     "text": [
      "Fin\n"
     ]
    }
   ],
   "source": [
    "print(\"Fin\")"
   ]
  },
  {
   "cell_type": "code",
   "execution_count": 144,
   "metadata": {},
   "outputs": [],
   "source": [
    "#Args \n",
    "def args_func(*args):\n",
    "    for name in args:\n",
    "        print( '{0} '.format(name))"
   ]
  },
  {
   "cell_type": "code",
   "execution_count": 145,
   "metadata": {},
   "outputs": [
    {
     "name": "stdout",
     "output_type": "stream",
     "text": [
      "['a', 'b'] \n"
     ]
    }
   ],
   "source": [
    "args_func(['a','b'])"
   ]
  },
  {
   "cell_type": "code",
   "execution_count": 10,
   "metadata": {},
   "outputs": [
    {
     "name": "stdout",
     "output_type": "stream",
     "text": [
      "wrong is self : True\n"
     ]
    }
   ],
   "source": [
    "#Demonstrating what 'self' is\n",
    "class Abhi(object):\n",
    "    def Abhi_func(self, wrong):\n",
    "        print(\"wrong is self : {0}\".format(wrong is self))\n",
    "        \n",
    "abhi_obj= Abhi()\n",
    "abhi_obj.Abhi_func(abhi_obj)"
   ]
  },
  {
   "cell_type": "code",
   "execution_count": 25,
   "metadata": {},
   "outputs": [],
   "source": []
  },
  {
   "cell_type": "code",
   "execution_count": 35,
   "metadata": {},
   "outputs": [],
   "source": [
    "import datetime as datetime"
   ]
  },
  {
   "cell_type": "code",
   "execution_count": 34,
   "metadata": {},
   "outputs": [
    {
     "data": {
      "text/plain": [
       "'09-01-2018 16:51:56'"
      ]
     },
     "execution_count": 34,
     "metadata": {},
     "output_type": "execute_result"
    }
   ],
   "source": [
    "#Test Time\n",
    "datetime.now().strftime('%d-%m-%Y %H:%M:%S')"
   ]
  },
  {
   "cell_type": "code",
   "execution_count": 29,
   "metadata": {},
   "outputs": [],
   "source": [
    "with open(\"test.txt\", \"a\") as myfile:\n",
    "    myfile.write(\"\\nappended text\")"
   ]
  },
  {
   "cell_type": "code",
   "execution_count": 32,
   "metadata": {},
   "outputs": [],
   "source": [
    "def writeProgress(timeNow, currentStatus):\n",
    "    with open(\"test.txt\", \"a\") as myfile:\n",
    "        myfile.write(\"\\n\"+timeNow+\":\"+currentStatus)"
   ]
  },
  {
   "cell_type": "code",
   "execution_count": 33,
   "metadata": {},
   "outputs": [],
   "source": [
    "writeProgress(datetime.now().strftime('%d-%m-%Y %H:%M:%S'),\"Continue from Lambdas [https://docs.python.org/2/tutorial/controlflow.html#arbitrary-argument-lists](Additional notes - https://docs.python.org/3/faq/programming.html#id13)\")"
   ]
  },
  {
   "cell_type": "code",
   "execution_count": null,
   "metadata": {},
   "outputs": [],
   "source": []
  }
 ],
 "metadata": {
  "kernelspec": {
   "display_name": "Python 3",
   "language": "python",
   "name": "python3"
  },
  "language_info": {
   "codemirror_mode": {
    "name": "ipython",
    "version": 3
   },
   "file_extension": ".py",
   "mimetype": "text/x-python",
   "name": "python",
   "nbconvert_exporter": "python",
   "pygments_lexer": "ipython3",
   "version": "3.5.2"
  }
 },
 "nbformat": 4,
 "nbformat_minor": 2
}
